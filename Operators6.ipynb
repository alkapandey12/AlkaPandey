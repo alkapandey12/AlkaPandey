{
  "nbformat": 4,
  "nbformat_minor": 0,
  "metadata": {
    "colab": {
      "provenance": [],
      "authorship_tag": "ABX9TyOnxAmgl1eFmnsZ+pJQleq7",
      "include_colab_link": true
    },
    "kernelspec": {
      "name": "python3",
      "display_name": "Python 3"
    },
    "language_info": {
      "name": "python"
    }
  },
  "cells": [
    {
      "cell_type": "markdown",
      "metadata": {
        "id": "view-in-github",
        "colab_type": "text"
      },
      "source": [
        "<a href=\"https://colab.research.google.com/github/alkapandey12/AlkaPandey/blob/main/Operators6.ipynb\" target=\"_parent\"><img src=\"https://colab.research.google.com/assets/colab-badge.svg\" alt=\"Open In Colab\"/></a>"
      ]
    },
    {
      "cell_type": "code",
      "execution_count": null,
      "metadata": {
        "colab": {
          "base_uri": "https://localhost:8080/"
        },
        "id": "SBA622k2Ju01",
        "outputId": "d0124898-0d1c-409b-d4bc-660480698427"
      },
      "outputs": [
        {
          "output_type": "execute_result",
          "data": {
            "text/plain": [
              "5.0"
            ]
          },
          "metadata": {},
          "execution_count": 1
        }
      ],
      "source": [
        "2+3.0"
      ]
    },
    {
      "cell_type": "code",
      "source": [
        "\"what's \"+\"up\" + \"!\""
      ],
      "metadata": {
        "colab": {
          "base_uri": "https://localhost:8080/",
          "height": 35
        },
        "id": "IEku1_bCJ5LT",
        "outputId": "66815b7d-5bf0-46f7-a1e8-37bc51f6654f"
      },
      "execution_count": null,
      "outputs": [
        {
          "output_type": "execute_result",
          "data": {
            "text/plain": [
              "\"what's up!\""
            ],
            "application/vnd.google.colaboratory.intrinsic+json": {
              "type": "string"
            }
          },
          "metadata": {},
          "execution_count": 2
        }
      ]
    },
    {
      "cell_type": "code",
      "source": [
        "\"what's \"+\"up ? \"*10"
      ],
      "metadata": {
        "colab": {
          "base_uri": "https://localhost:8080/",
          "height": 35
        },
        "id": "pOaLUX0NJ_2J",
        "outputId": "9d5e29f1-abdd-4813-97ca-3838fa239a93"
      },
      "execution_count": null,
      "outputs": [
        {
          "output_type": "execute_result",
          "data": {
            "text/plain": [
              "\"what's up ? up ? up ? up ? up ? up ? up ? up ? up ? up ? \""
            ],
            "application/vnd.google.colaboratory.intrinsic+json": {
              "type": "string"
            }
          },
          "metadata": {},
          "execution_count": 3
        }
      ]
    },
    {
      "cell_type": "code",
      "source": [
        "3.1-2"
      ],
      "metadata": {
        "colab": {
          "base_uri": "https://localhost:8080/"
        },
        "id": "lx0Z7ZmRKG3B",
        "outputId": "d545619d-90be-4e38-f880-35d142e8f126"
      },
      "execution_count": null,
      "outputs": [
        {
          "output_type": "execute_result",
          "data": {
            "text/plain": [
              "1.1"
            ]
          },
          "metadata": {},
          "execution_count": 4
        }
      ]
    },
    {
      "cell_type": "code",
      "source": [
        "four=4\n",
        "four.__sub__(2)"
      ],
      "metadata": {
        "colab": {
          "base_uri": "https://localhost:8080/"
        },
        "id": "ARVdckFfKJd-",
        "outputId": "14e2b822-ec12-4c66-fb57-df44285de11d"
      },
      "execution_count": null,
      "outputs": [
        {
          "output_type": "execute_result",
          "data": {
            "text/plain": [
              "2"
            ]
          },
          "metadata": {},
          "execution_count": 5
        }
      ]
    },
    {
      "cell_type": "code",
      "source": [
        "5 / 2"
      ],
      "metadata": {
        "colab": {
          "base_uri": "https://localhost:8080/"
        },
        "id": "90DFQtrTKdUF",
        "outputId": "71e74975-74f5-4e04-8606-a2f5a9ca30d2"
      },
      "execution_count": null,
      "outputs": [
        {
          "output_type": "execute_result",
          "data": {
            "text/plain": [
              "2.5"
            ]
          },
          "metadata": {},
          "execution_count": 6
        }
      ]
    },
    {
      "cell_type": "code",
      "source": [
        "5 // 2"
      ],
      "metadata": {
        "colab": {
          "base_uri": "https://localhost:8080/"
        },
        "id": "iRYakJudKjjK",
        "outputId": "769bf095-82e1-4af6-b1dd-0681e7a5fce6"
      },
      "execution_count": null,
      "outputs": [
        {
          "output_type": "execute_result",
          "data": {
            "text/plain": [
              "2"
            ]
          },
          "metadata": {},
          "execution_count": 7
        }
      ]
    },
    {
      "cell_type": "code",
      "source": [
        "5 % 2"
      ],
      "metadata": {
        "colab": {
          "base_uri": "https://localhost:8080/"
        },
        "id": "XQ_VJ6N-Kk05",
        "outputId": "c2d15a4e-3bb9-482a-fc76-c51dfaeba7b1"
      },
      "execution_count": null,
      "outputs": [
        {
          "output_type": "execute_result",
          "data": {
            "text/plain": [
              "1"
            ]
          },
          "metadata": {},
          "execution_count": 8
        }
      ]
    },
    {
      "cell_type": "code",
      "source": [
        "min_salary=20_00 # _is ignored by the interpreter\n",
        "max_salary=80_000\n",
        "avg_salary=(min_salary+max_salary)/2\n",
        "avg_salary"
      ],
      "metadata": {
        "colab": {
          "base_uri": "https://localhost:8080/"
        },
        "id": "t6BuA7xkKo_g",
        "outputId": "09548950-cb21-46ae-b878-57223d710470"
      },
      "execution_count": null,
      "outputs": [
        {
          "output_type": "execute_result",
          "data": {
            "text/plain": [
              "41000.0"
            ]
          },
          "metadata": {},
          "execution_count": 9
        }
      ]
    },
    {
      "cell_type": "code",
      "source": [
        "applicant_1= \"Kelly\"\n",
        "applicant_2=\"lucke\""
      ],
      "metadata": {
        "id": "s8vYowfjLALk"
      },
      "execution_count": null,
      "outputs": []
    },
    {
      "cell_type": "code",
      "source": [
        "temp_var=applicant_1"
      ],
      "metadata": {
        "id": "xruXm2xqLVa2"
      },
      "execution_count": null,
      "outputs": []
    },
    {
      "cell_type": "code",
      "source": [
        "applicant_1=applicant_2\n",
        "applicant_2=temp_var"
      ],
      "metadata": {
        "id": "PTRIKFEFLaaN"
      },
      "execution_count": null,
      "outputs": []
    },
    {
      "cell_type": "code",
      "source": [
        "applicant_1,applicant_2"
      ],
      "metadata": {
        "colab": {
          "base_uri": "https://localhost:8080/"
        },
        "id": "GJM3FO5sLdVB",
        "outputId": "4e10931f-2b1c-41d8-a440-3ea981bd3927"
      },
      "execution_count": null,
      "outputs": [
        {
          "output_type": "execute_result",
          "data": {
            "text/plain": [
              "('lucke', 'Kelly')"
            ]
          },
          "metadata": {},
          "execution_count": 13
        }
      ]
    },
    {
      "cell_type": "code",
      "source": [
        "salary_kelly=60_000\n",
        "salary_lucke=40_000\n",
        "salary_kelly=salary_lucke"
      ],
      "metadata": {
        "id": "tCkzDZbTLivq"
      },
      "execution_count": null,
      "outputs": []
    },
    {
      "cell_type": "code",
      "source": [
        "1==1"
      ],
      "metadata": {
        "colab": {
          "base_uri": "https://localhost:8080/"
        },
        "id": "XfAt58BxL2ih",
        "outputId": "37f4f045-08bc-4bae-d2db-684e22b4f61c"
      },
      "execution_count": null,
      "outputs": [
        {
          "output_type": "execute_result",
          "data": {
            "text/plain": [
              "True"
            ]
          },
          "metadata": {},
          "execution_count": 16
        }
      ]
    },
    {
      "cell_type": "code",
      "source": [
        "#conditional statement\n",
        "#skill required for job posting\n",
        "job_skill='sql'\n",
        "#applicant skill\n",
        "applicant_skill='sql'"
      ],
      "metadata": {
        "id": "g05ZO_ZlL6_8"
      },
      "execution_count": null,
      "outputs": []
    },
    {
      "cell_type": "code",
      "source": [
        "if job_skill==applicant_skill:\n",
        "  print(\"skills match\")"
      ],
      "metadata": {
        "colab": {
          "base_uri": "https://localhost:8080/"
        },
        "id": "7rEXmMoXMSA0",
        "outputId": "c14fc126-e431-470a-d05c-a1f1d06c8644"
      },
      "execution_count": null,
      "outputs": [
        {
          "output_type": "stream",
          "name": "stdout",
          "text": [
            "skills match\n"
          ]
        }
      ]
    },
    {
      "cell_type": "code",
      "source": [
        "job_skill=\"sql\"\n",
        "applicant_skill='sql'\n",
        "years_experience=6\n",
        "if job_skill==applicant_skill:\n",
        "  print(\"skills match !\")\n",
        "elif years_experience>=5:\n",
        "  print(\"enough experience\")\n",
        "else:\n",
        "  print(\"no match\")\n"
      ],
      "metadata": {
        "colab": {
          "base_uri": "https://localhost:8080/"
        },
        "id": "FnvPHZvhMXp3",
        "outputId": "2853ba7d-53c7-4f8e-946b-14dab1e325dd"
      },
      "execution_count": null,
      "outputs": [
        {
          "output_type": "stream",
          "name": "stdout",
          "text": [
            "skills match !\n"
          ]
        }
      ]
    },
    {
      "cell_type": "code",
      "source": [],
      "metadata": {
        "id": "xGpmN3DgM_7L"
      },
      "execution_count": null,
      "outputs": []
    }
  ]
}